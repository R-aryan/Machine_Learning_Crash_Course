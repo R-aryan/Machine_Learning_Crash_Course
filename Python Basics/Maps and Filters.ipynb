{
 "cells": [
  {
   "cell_type": "markdown",
   "metadata": {},
   "source": [
    "# Maps And Filters"
   ]
  },
  {
   "cell_type": "markdown",
   "metadata": {},
   "source": [
    "In Python, anonymous function means that a function is without a name. As we already know that def keyword is used to define the normal functions and the lambda keyword is used to create anonymous functions. It has the following syntax:\n",
    "\n",
    "lambda arguments: expression\n",
    "\n",
    "<ul>\n",
    "<li>This function can have any number of arguments but only one expression, which is evaluated and returned.</li>\n",
    "<li>One is free to use lambda functions wherever function objects are required.</li>\n",
    "<li>You need to keep in your knowledge that lambda functions are syntactically restricted to a single expression.</li>\n",
    "<li>It has various uses in particular fields of programming besides other types of expressions in functions.</li></ul>\n",
    "\n"
   ]
  },
  {
   "cell_type": "code",
   "execution_count": null,
   "metadata": {},
   "outputs": [],
   "source": []
  }
 ],
 "metadata": {
  "kernelspec": {
   "display_name": "Python 3",
   "language": "python",
   "name": "python3"
  },
  "language_info": {
   "codemirror_mode": {
    "name": "ipython",
    "version": 3
   },
   "file_extension": ".py",
   "mimetype": "text/x-python",
   "name": "python",
   "nbconvert_exporter": "python",
   "pygments_lexer": "ipython3",
   "version": "3.6.8"
  }
 },
 "nbformat": 4,
 "nbformat_minor": 2
}
