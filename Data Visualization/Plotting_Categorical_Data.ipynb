{
 "cells": [
  {
   "cell_type": "markdown",
   "metadata": {},
   "source": [
    "# Plotting Categorical Data\n",
    "\n",
    "In this section, we will:\n",
    "- Plot distributions of data across categorical variables\n",
    "- Plot aggregate/summary statistics across categorical variables\n",
    "\n",
    "\n",
    "## Plotting Distributions Across Categories\n",
    "\n",
    "We have seen how to plot distributions of data. Often, the distributions reveal new information when you plot them across categorical variables.\n",
    "\n",
    "Let's see some examples."
   ]
  },
  {
   "cell_type": "code",
   "execution_count": 1,
   "metadata": {},
   "outputs": [],
   "source": [
    "# loading libraries and reading the data\n",
    "import numpy as np\n",
    "import pandas as pd\n",
    "import matplotlib.pyplot as plt\n",
    "import seaborn as sns\n",
    "\n",
    "# set seaborn theme if you prefer\n",
    "sns.set(style=\"white\")\n",
    "\n",
    "# read data\n",
    "market_df = pd.read_csv(\"./global_sales_data/market_fact.csv\")\n",
    "customer_df = pd.read_csv(\"./global_sales_data/cust_dimen.csv\")\n",
    "product_df = pd.read_csv(\"./global_sales_data/prod_dimen.csv\")\n",
    "shipping_df = pd.read_csv(\"./global_sales_data/shipping_dimen.csv\")\n",
    "orders_df = pd.read_csv(\"./global_sales_data/orders_dimen.csv\")\n"
   ]
  },
  {
   "cell_type": "markdown",
   "metadata": {},
   "source": [
    "### Boxplots \n",
    "\n",
    "We had created simple boxplots such as the ones shown below. Now, let's plot multiple boxplots and see what they can tell us the distribution of variables across categories."
   ]
  },
  {
   "cell_type": "code",
   "execution_count": 5,
   "metadata": {},
   "outputs": [
    {
     "data": {
      "image/png": "[encoded data removed]",
      "text/plain": [
       "<Figure size 432x288 with 1 Axes>"
      ]
     },
     "metadata": {
      "needs_background": "light"
     },
     "output_type": "display_data"
    }
   ],
   "source": [
    "#boxplot of a variable\n",
    "sns.boxplot(y=market_df['Sales'])\n",
    "plt.yscale('log')\n",
    "plt.show()"
   ]
  },
  {
   "cell_type": "markdown",
   "metadata": {},
   "source": [
    "Now, let's say you want to **compare the (distribution of) sales of various product categories**. Let's first merge the product data into the main dataframe."
   ]
  },
  {
   "cell_type": "code",
   "execution_count": 7,
   "metadata": {},
   "outputs": [
    {
     "data": {
      "text/html": [
       "<div>\n",
       "<style scoped>\n",
       "    .dataframe tbody tr th:only-of-type {\n",
       "        vertical-align: middle;\n",
       "    }\n",
       "\n",
       "    .dataframe tbody tr th {\n",
       "        vertical-align: top;\n",
       "    }\n",
       "\n",
       "    .dataframe thead th {\n",
       "        text-align: right;\n",
       "    }\n",
       "</style>\n",
       "<table border=\"1\" class=\"dataframe\">\n",
       "  <thead>\n",
       "    <tr style=\"text-align: right;\">\n",
       "      <th></th>\n",
       "      <th>Ord_id</th>\n",
       "      <th>Prod_id</th>\n",
       "      <th>Ship_id</th>\n",
       "      <th>Cust_id</th>\n",
       "      <th>Sales</th>\n",
       "      <th>Discount</th>\n",
       "      <th>Order_Quantity</th>\n",
       "      <th>Profit</th>\n",
       "      <th>Shipping_Cost</th>\n",
       "      <th>Product_Base_Margin</th>\n",
       "      <th>Product_Category</th>\n",
       "      <th>Product_Sub_Category</th>\n",
       "    </tr>\n",
       "  </thead>\n",
       "  <tbody>\n",
       "    <tr>\n",
       "      <th>0</th>\n",
       "      <td>Ord_5446</td>\n",
       "      <td>Prod_16</td>\n",
       "      <td>SHP_7609</td>\n",
       "      <td>Cust_1818</td>\n",
       "      <td>136.81</td>\n",
       "      <td>0.01</td>\n",
       "      <td>23</td>\n",
       "      <td>-30.51</td>\n",
       "      <td>3.60</td>\n",
       "      <td>0.56</td>\n",
       "      <td>OFFICE SUPPLIES</td>\n",
       "      <td>SCISSORS, RULERS AND TRIMMERS</td>\n",
       "    </tr>\n",
       "    <tr>\n",
       "      <th>1</th>\n",
       "      <td>Ord_2978</td>\n",
       "      <td>Prod_16</td>\n",
       "      <td>SHP_4112</td>\n",
       "      <td>Cust_1088</td>\n",
       "      <td>305.05</td>\n",
       "      <td>0.04</td>\n",
       "      <td>27</td>\n",
       "      <td>23.12</td>\n",
       "      <td>3.37</td>\n",
       "      <td>0.57</td>\n",
       "      <td>OFFICE SUPPLIES</td>\n",
       "      <td>SCISSORS, RULERS AND TRIMMERS</td>\n",
       "    </tr>\n",
       "    <tr>\n",
       "      <th>2</th>\n",
       "      <td>Ord_5484</td>\n",
       "      <td>Prod_16</td>\n",
       "      <td>SHP_7663</td>\n",
       "      <td>Cust_1820</td>\n",
       "      <td>322.82</td>\n",
       "      <td>0.05</td>\n",
       "      <td>35</td>\n",
       "      <td>-17.58</td>\n",
       "      <td>3.98</td>\n",
       "      <td>0.56</td>\n",
       "      <td>OFFICE SUPPLIES</td>\n",
       "      <td>SCISSORS, RULERS AND TRIMMERS</td>\n",
       "    </tr>\n",
       "    <tr>\n",
       "      <th>3</th>\n",
       "      <td>Ord_3730</td>\n",
       "      <td>Prod_16</td>\n",
       "      <td>SHP_5175</td>\n",
       "      <td>Cust_1314</td>\n",
       "      <td>459.08</td>\n",
       "      <td>0.04</td>\n",
       "      <td>34</td>\n",
       "      <td>61.57</td>\n",
       "      <td>3.14</td>\n",
       "      <td>0.60</td>\n",
       "      <td>OFFICE SUPPLIES</td>\n",
       "      <td>SCISSORS, RULERS AND TRIMMERS</td>\n",
       "    </tr>\n",
       "    <tr>\n",
       "      <th>4</th>\n",
       "      <td>Ord_4143</td>\n",
       "      <td>Prod_16</td>\n",
       "      <td>SHP_5771</td>\n",
       "      <td>Cust_1417</td>\n",
       "      <td>207.21</td>\n",
       "      <td>0.06</td>\n",
       "      <td>24</td>\n",
       "      <td>-78.64</td>\n",
       "      <td>6.14</td>\n",
       "      <td>0.59</td>\n",
       "      <td>OFFICE SUPPLIES</td>\n",
       "      <td>SCISSORS, RULERS AND TRIMMERS</td>\n",
       "    </tr>\n",
       "  </tbody>\n",
       "</table>\n",
       "</div>"
      ],
      "text/plain": [
       "     Ord_id  Prod_id   Ship_id    Cust_id   Sales  Discount  Order_Quantity  \\\n",
       "0  Ord_5446  Prod_16  SHP_7609  Cust_1818  136.81      0.01              23   \n",
       "1  Ord_2978  Prod_16  SHP_4112  Cust_1088  305.05      0.04              27   \n",
       "2  Ord_5484  Prod_16  SHP_7663  Cust_1820  322.82      0.05              35   \n",
       "3  Ord_3730  Prod_16  SHP_5175  Cust_1314  459.08      0.04              34   \n",
       "4  Ord_4143  Prod_16  SHP_5771  Cust_1417  207.21      0.06              24   \n",
       "\n",
       "   Profit  Shipping_Cost  Product_Base_Margin Product_Category  \\\n",
       "0  -30.51           3.60                 0.56  OFFICE SUPPLIES   \n",
       "1   23.12           3.37                 0.57  OFFICE SUPPLIES   \n",
       "2  -17.58           3.98                 0.56  OFFICE SUPPLIES   \n",
       "3   61.57           3.14                 0.60  OFFICE SUPPLIES   \n",
       "4  -78.64           6.14                 0.59  OFFICE SUPPLIES   \n",
       "\n",
       "            Product_Sub_Category  \n",
       "0  SCISSORS, RULERS AND TRIMMERS  \n",
       "1  SCISSORS, RULERS AND TRIMMERS  \n",
       "2  SCISSORS, RULERS AND TRIMMERS  \n",
       "3  SCISSORS, RULERS AND TRIMMERS  \n",
       "4  SCISSORS, RULERS AND TRIMMERS  "
      ]
     },
     "execution_count": 7,
     "metadata": {},
     "output_type": "execute_result"
    }
   ],
   "source": [
    "# merge the dataframe to add a categorical variable\n",
    "df=pd.merge(market_df,product_df,how='inner',on='Prod_id')\n",
    "df.head()"
   ]
  },
  {
   "cell_type": "code",
   "execution_count": 8,
   "metadata": {},
   "outputs": [
    {
     "data": {
      "image/png": "[encoded data removed]",
      "text/plain": [
       "<Figure size 432x288 with 1 Axes>"
      ]
     },
     "metadata": {
      "needs_background": "light"
     },
     "output_type": "display_data"
    }
   ],
   "source": [
    "# boxplot of a variable across various product categories\n",
    "sns.boxplot(x='Product_Category',y='Sales',data=df)\n",
    "plt.yscale('log')\n",
    "plt.show()"
   ]
  },
  {
   "cell_type": "markdown",
   "metadata": {},
   "source": [
    "So this tells you that the sales of office supplies are, on an average, lower than the other two categories. The sales of technology and furniture categories seem much better. Note that each order can have multiple units of products sold, so Sales being higher/lower may be due to price per unit or the number of units.\n",
    "\n",
    "Let's now plot the other important variable - Profit."
   ]
  },
  {
   "cell_type": "code",
   "execution_count": 9,
   "metadata": {},
   "outputs": [
    {
     "data": {
      "image/png": "[encoded data removed]",
      "text/plain": [
       "<Figure size 432x288 with 1 Axes>"
      ]
     },
     "metadata": {
      "needs_background": "light"
     },
     "output_type": "display_data"
    }
   ],
   "source": [
    "# boxplot of a variable across various product categories\n",
    "sns.boxplot(x='Product_Category',y='Profit',data=df)\n",
    "plt.show()"
   ]
  },
  {
   "cell_type": "markdown",
   "metadata": {},
   "source": [
    "Profit clearly has some *outliers* due to which the boxplots are unreadable. Let's remove some extreme values from Profit (for the purpose of visualisation) and try plotting."
   ]
  },
  {
   "cell_type": "code",
   "execution_count": 10,
   "metadata": {},
   "outputs": [
    {
     "data": {
      "image/png": "[encoded data removed]",
      "text/plain": [
       "<Figure size 432x288 with 1 Axes>"
      ]
     },
     "metadata": {
      "needs_background": "light"
     },
     "output_type": "display_data"
    }
   ],
   "source": [
    "df = df[(df.Profit<1000) & (df.Profit>-1000)]\n",
    "\n",
    "# boxplot of a variable across various product categories\n",
    "sns.boxplot(x='Product_Category', y='Profit', data=df)\n",
    "plt.show()"
   ]
  },
  {
   "cell_type": "markdown",
   "metadata": {},
   "source": [
    "We can see that though the category 'Technology' has better sales numbers than others, it is also the one where the **most loss making transactions** happen. You can drill further down into this.\n",
    "\n"
   ]
  },
  {
   "cell_type": "code",
   "execution_count": null,
   "metadata": {},
   "outputs": [],
   "source": []
  }
 ],
 "metadata": {
  "kernelspec": {
   "display_name": "Python 3",
   "language": "python",
   "name": "python3"
  },
  "language_info": {
   "codemirror_mode": {
    "name": "ipython",
    "version": 3
   },
   "file_extension": ".py",
   "mimetype": "text/x-python",
   "name": "python",
   "nbconvert_exporter": "python",
   "pygments_lexer": "ipython3",
   "version": "3.7.3"
  }
 },
 "nbformat": 4,
 "nbformat_minor": 2
}
