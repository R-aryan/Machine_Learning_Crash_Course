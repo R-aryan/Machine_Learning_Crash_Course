{
 "cells": [
  {
   "cell_type": "markdown",
   "metadata": {},
   "source": [
    "# Pandas"
   ]
  },
  {
   "cell_type": "markdown",
   "metadata": {},
   "source": [
    "Pandas is an open source, BSD-licensed library providing high-performance, easy-to-use data structures and data analysis tools for the Python programming language.\n",
    "\n",
    "pandas is a NumFOCUS sponsored project. This will help ensure the success of development of pandas as a world-class open-source project, and makes it possible to donate to the project."
   ]
  },
  {
   "cell_type": "markdown",
   "metadata": {},
   "source": [
    "Pandas is used for data manipulation, analysis and cleaning. Python pandas is well suited for different kinds of data, such as: \n",
    "\n",
    "<ul><li>Tabular data with heterogeneously-typed columns</li>\n",
    "    <li>Ordered and unordered time series data</li>\n",
    "    <li>Arbitrary matrix data with row & column labels</li>\n",
    "    <li>Unlabelled data</li>\n",
    "    <li>Any other form of observational or statistical data sets</li></ul>"
   ]
  },
  {
   "cell_type": "markdown",
   "metadata": {},
   "source": [
    "# Python Operations"
   ]
  },
  {
   "cell_type": "code",
   "execution_count": 1,
   "metadata": {},
   "outputs": [
    {
     "name": "stdout",
     "output_type": "stream",
     "text": [
      "   Day  Visitors  Bounce_Rate\n",
      "0    1      1000           20\n",
      "1    2       700           20\n",
      "2    3      6000           23\n",
      "3    4      1000           15\n",
      "4    5       400           10\n",
      "5    6       350           34\n"
     ]
    }
   ],
   "source": [
    "import pandas as pd\n",
    " \n",
    "XYZ_web= {'Day':[1,2,3,4,5,6], \"Visitors\":[1000, 700,6000,1000,400,350], \"Bounce_Rate\":[20,20, 23,15,10,34]}\n",
    " \n",
    "df= pd.DataFrame(XYZ_web)\n",
    " \n",
    "print(df)"
   ]
  },
  {
   "cell_type": "markdown",
   "metadata": {},
   "source": [
    "# create Pandas Series"
   ]
  },
  {
   "cell_type": "code",
   "execution_count": 3,
   "metadata": {},
   "outputs": [
    {
     "name": "stdout",
     "output_type": "stream",
     "text": [
      "0    1\n",
      "1    2\n",
      "2    3\n",
      "3    4\n",
      "4    5\n",
      "dtype: int64\n",
      "\n",
      "\n",
      "<class 'pandas.core.series.Series'>\n"
     ]
    }
   ],
   "source": [
    "import pandas as pd\n",
    "a = pd.Series([1,2,3,4,5])\n",
    "print(a)\n",
    "print(\"\\n\")\n",
    "print(type(a))"
   ]
  },
  {
   "cell_type": "code",
   "execution_count": 4,
   "metadata": {},
   "outputs": [
    {
     "data": {
      "text/plain": [
       "3"
      ]
     },
     "execution_count": 4,
     "metadata": {},
     "output_type": "execute_result"
    }
   ],
   "source": [
    "a[2]"
   ]
  },
  {
   "cell_type": "code",
   "execution_count": 5,
   "metadata": {},
   "outputs": [
    {
     "name": "stdout",
     "output_type": "stream",
     "text": [
      "0    a\n",
      "1    b\n",
      "2    c\n",
      "dtype: object\n"
     ]
    }
   ],
   "source": [
    "a = pd.Series(['a','b','c'])\n",
    "print(a)"
   ]
  },
  {
   "cell_type": "code",
   "execution_count": 8,
   "metadata": {},
   "outputs": [
    {
     "name": "stdout",
     "output_type": "stream",
     "text": [
      "DatetimeIndex(['2018-01-01', '2018-01-02', '2018-01-03', '2018-01-04',\n",
      "               '2018-01-05', '2018-01-06', '2018-01-07', '2018-01-08',\n",
      "               '2018-01-09', '2018-01-10',\n",
      "               ...\n",
      "               '2018-05-14', '2018-05-15', '2018-05-16', '2018-05-17',\n",
      "               '2018-05-18', '2018-05-19', '2018-05-20', '2018-05-21',\n",
      "               '2018-05-22', '2018-05-23'],\n",
      "              dtype='datetime64[ns]', length=143, freq='D')\n",
      "\n",
      "\n",
      "<class 'pandas.core.indexes.datetimes.DatetimeIndex'>\n"
     ]
    }
   ],
   "source": [
    "a = pd.date_range(start = '01-01-2018', end = '23-5-2018')\n",
    "print(a)\n",
    "print(\"\\n\")\n",
    "print(type(a))"
   ]
  },
  {
   "cell_type": "markdown",
   "metadata": {},
   "source": [
    "# Pandas dataframe"
   ]
  },
  {
   "cell_type": "code",
   "execution_count": 10,
   "metadata": {},
   "outputs": [
    {
     "name": "stdout",
     "output_type": "stream",
     "text": [
      "    temp      name  random\n",
      "0     72  Geekshub      13\n",
      "1     67    Teclov      10\n",
      "2     72     Ankit      14\n",
      "3     69     Abhay      11\n",
      "4     25  Geekshub      11\n",
      "5     36    Teclov      10\n",
      "6     54  Geekshub      13\n",
      "7     50  Geekshub      11\n",
      "8     80    Teclov      10\n",
      "9     91    Teclov      11\n",
      "10    53    Teclov      14\n",
      "11    61     Abhay      10\n",
      "12    79     Ankit      10\n",
      "13    94     Abhay      12\n",
      "14    22    Teclov      13\n",
      "15    41    Teclov      10\n",
      "16    93    Teclov      10\n",
      "17    48    Teclov      12\n",
      "18    41     Ankit      14\n",
      "19    71    Teclov      11\n",
      "\n",
      "\n",
      "<class 'pandas.core.frame.DataFrame'>\n"
     ]
    }
   ],
   "source": [
    "import numpy as np\n",
    "\n",
    "temp = np.random.randint(low = 20, high =100, size = [20,])\n",
    "name = np.random.choice(['Abhay','Teclov','Geekshub','Ankit'],20)\n",
    "random = np.random.choice([10,11,13,12,14],20)\n",
    "\n",
    "a = list(zip(temp, name, random))\n",
    "\n",
    "df = pd.DataFrame(data = a, columns=['temp','name','random'])\n",
    "print(df)\n",
    "print(\"\\n\")\n",
    "print(type(df))"
   ]
  },
  {
   "cell_type": "code",
   "execution_count": 13,
   "metadata": {},
   "outputs": [
    {
     "name": "stdout",
     "output_type": "stream",
     "text": [
      "<class 'pandas.core.frame.DataFrame'>\n",
      "\n",
      "\n",
      "   temp      name  random\n",
      "0    69     Abhay      10\n",
      "1    96     Ankit      13\n",
      "2    97  Geekshub      12\n",
      "3    45    Teclov      12\n",
      "4    44     Ankit      12\n",
      "\n",
      "\n",
      "    temp      name  random\n",
      "15    24    Teclov      13\n",
      "16    50  Geekshub      11\n",
      "17    24  Geekshub      10\n",
      "18    82     Abhay      14\n",
      "19    73    Teclov      12\n",
      "None\n"
     ]
    }
   ],
   "source": [
    "temp = np.random.randint(low = 20, high =100, size = [20,])\n",
    "name = np.random.choice(['Abhay','Teclov','Geekshub','Ankit'],20)\n",
    "random = np.random.choice([10,11,13,12,14],20)\n",
    "\n",
    "df = pd.DataFrame({'temp':temp, 'name':name, 'random':random})\n",
    "print(type(df))\n",
    "print(\"\\n\")\n",
    "print(df.head())\n",
    "print(\"\\n\")\n",
    "print(print(df.tail()))"
   ]
  },
  {
   "cell_type": "code",
   "execution_count": 15,
   "metadata": {},
   "outputs": [
    {
     "name": "stdout",
     "output_type": "stream",
     "text": [
      "(20, 3)\n",
      "\n",
      "\n",
      "Index(['temp', 'name', 'random'], dtype='object')\n"
     ]
    }
   ],
   "source": [
    "print(df.shape)\n",
    "print(\"\\n\")\n",
    "print(df.columns)"
   ]
  },
  {
   "cell_type": "code",
   "execution_count": 16,
   "metadata": {},
   "outputs": [
    {
     "data": {
      "text/plain": [
       "0        Abhay\n",
       "1        Ankit\n",
       "2     Geekshub\n",
       "3       Teclov\n",
       "4        Ankit\n",
       "5        Ankit\n",
       "6        Ankit\n",
       "7     Geekshub\n",
       "8        Abhay\n",
       "9        Ankit\n",
       "10      Teclov\n",
       "11       Abhay\n",
       "12       Ankit\n",
       "13      Teclov\n",
       "14       Ankit\n",
       "15      Teclov\n",
       "16    Geekshub\n",
       "17    Geekshub\n",
       "18       Abhay\n",
       "19      Teclov\n",
       "Name: name, dtype: object"
      ]
     },
     "execution_count": 16,
     "metadata": {},
     "output_type": "execute_result"
    }
   ],
   "source": [
    "df.name"
   ]
  },
  {
   "cell_type": "code",
   "execution_count": 17,
   "metadata": {},
   "outputs": [
    {
     "data": {
      "text/plain": [
       "0        Abhay\n",
       "1        Ankit\n",
       "2     Geekshub\n",
       "3       Teclov\n",
       "4        Ankit\n",
       "5        Ankit\n",
       "6        Ankit\n",
       "7     Geekshub\n",
       "8        Abhay\n",
       "9        Ankit\n",
       "10      Teclov\n",
       "11       Abhay\n",
       "12       Ankit\n",
       "13      Teclov\n",
       "14       Ankit\n",
       "15      Teclov\n",
       "16    Geekshub\n",
       "17    Geekshub\n",
       "18       Abhay\n",
       "19      Teclov\n",
       "Name: name, dtype: object"
      ]
     },
     "execution_count": 17,
     "metadata": {},
     "output_type": "execute_result"
    }
   ],
   "source": [
    "df['name']"
   ]
  },
  {
   "cell_type": "code",
   "execution_count": 18,
   "metadata": {},
   "outputs": [
    {
     "data": {
      "text/plain": [
       "count    20.000000\n",
       "mean     58.450000\n",
       "std      24.212817\n",
       "min      24.000000\n",
       "25%      42.750000\n",
       "50%      58.500000\n",
       "75%      74.000000\n",
       "max      97.000000\n",
       "Name: temp, dtype: float64"
      ]
     },
     "execution_count": 18,
     "metadata": {},
     "output_type": "execute_result"
    }
   ],
   "source": [
    "df['temp'].describe()"
   ]
  },
  {
   "cell_type": "code",
   "execution_count": 19,
   "metadata": {},
   "outputs": [
    {
     "name": "stdout",
     "output_type": "stream",
     "text": [
      "<class 'pandas.core.frame.DataFrame'>\n",
      "RangeIndex: 20 entries, 0 to 19\n",
      "Data columns (total 3 columns):\n",
      "temp      20 non-null int32\n",
      "name      20 non-null object\n",
      "random    20 non-null int32\n",
      "dtypes: int32(2), object(1)\n",
      "memory usage: 400.0+ bytes\n"
     ]
    }
   ],
   "source": [
    "df.info()"
   ]
  },
  {
   "cell_type": "code",
   "execution_count": 20,
   "metadata": {},
   "outputs": [
    {
     "data": {
      "text/plain": [
       "array([[69, 'Abhay', 10],\n",
       "       [96, 'Ankit', 13],\n",
       "       [97, 'Geekshub', 12],\n",
       "       [45, 'Teclov', 12],\n",
       "       [44, 'Ankit', 12],\n",
       "       [67, 'Ankit', 10],\n",
       "       [74, 'Ankit', 14],\n",
       "       [45, 'Geekshub', 14],\n",
       "       [42, 'Abhay', 11],\n",
       "       [24, 'Ankit', 10],\n",
       "       [32, 'Teclov', 12],\n",
       "       [94, 'Abhay', 11],\n",
       "       [74, 'Ankit', 10],\n",
       "       [43, 'Teclov', 13],\n",
       "       [70, 'Ankit', 10],\n",
       "       [24, 'Teclov', 13],\n",
       "       [50, 'Geekshub', 11],\n",
       "       [24, 'Geekshub', 10],\n",
       "       [82, 'Abhay', 14],\n",
       "       [73, 'Teclov', 12]], dtype=object)"
      ]
     },
     "execution_count": 20,
     "metadata": {},
     "output_type": "execute_result"
    }
   ],
   "source": [
    "df.values\n"
   ]
  },
  {
   "cell_type": "code",
   "execution_count": 21,
   "metadata": {},
   "outputs": [
    {
     "name": "stdout",
     "output_type": "stream",
     "text": [
      "    temp      name  random\n",
      "0     69     Abhay      10\n",
      "1     96     Ankit      13\n",
      "2     97  Geekshub      12\n",
      "3     45    Teclov      12\n",
      "4     44     Ankit      12\n",
      "5     67     Ankit      10\n",
      "6     74     Ankit      14\n",
      "7     45  Geekshub      14\n",
      "8     42     Abhay      11\n",
      "9     24     Ankit      10\n",
      "10    32    Teclov      12\n",
      "11    94     Abhay      11\n",
      "12    74     Ankit      10\n",
      "13    43    Teclov      13\n",
      "14    70     Ankit      10\n",
      "15    24    Teclov      13\n",
      "16    50  Geekshub      11\n",
      "17    24  Geekshub      10\n",
      "18    82     Abhay      14\n",
      "19    73    Teclov      12\n"
     ]
    }
   ],
   "source": [
    "print(df)"
   ]
  },
  {
   "cell_type": "code",
   "execution_count": 27,
   "metadata": {},
   "outputs": [
    {
     "data": {
      "text/html": [
       "<div>\n",
       "<style scoped>\n",
       "    .dataframe tbody tr th:only-of-type {\n",
       "        vertical-align: middle;\n",
       "    }\n",
       "\n",
       "    .dataframe tbody tr th {\n",
       "        vertical-align: top;\n",
       "    }\n",
       "\n",
       "    .dataframe thead th {\n",
       "        text-align: right;\n",
       "    }\n",
       "</style>\n",
       "<table border=\"1\" class=\"dataframe\">\n",
       "  <thead>\n",
       "    <tr style=\"text-align: right;\">\n",
       "      <th></th>\n",
       "      <th>name</th>\n",
       "    </tr>\n",
       "    <tr>\n",
       "      <th>random</th>\n",
       "      <th></th>\n",
       "    </tr>\n",
       "  </thead>\n",
       "  <tbody>\n",
       "    <tr>\n",
       "      <th>10</th>\n",
       "      <td>Abhay</td>\n",
       "    </tr>\n",
       "    <tr>\n",
       "      <th>13</th>\n",
       "      <td>Ankit</td>\n",
       "    </tr>\n",
       "    <tr>\n",
       "      <th>12</th>\n",
       "      <td>Geekshub</td>\n",
       "    </tr>\n",
       "    <tr>\n",
       "      <th>12</th>\n",
       "      <td>Teclov</td>\n",
       "    </tr>\n",
       "    <tr>\n",
       "      <th>12</th>\n",
       "      <td>Ankit</td>\n",
       "    </tr>\n",
       "    <tr>\n",
       "      <th>10</th>\n",
       "      <td>Ankit</td>\n",
       "    </tr>\n",
       "    <tr>\n",
       "      <th>14</th>\n",
       "      <td>Ankit</td>\n",
       "    </tr>\n",
       "    <tr>\n",
       "      <th>14</th>\n",
       "      <td>Geekshub</td>\n",
       "    </tr>\n",
       "    <tr>\n",
       "      <th>11</th>\n",
       "      <td>Abhay</td>\n",
       "    </tr>\n",
       "    <tr>\n",
       "      <th>10</th>\n",
       "      <td>Ankit</td>\n",
       "    </tr>\n",
       "    <tr>\n",
       "      <th>12</th>\n",
       "      <td>Teclov</td>\n",
       "    </tr>\n",
       "    <tr>\n",
       "      <th>11</th>\n",
       "      <td>Abhay</td>\n",
       "    </tr>\n",
       "    <tr>\n",
       "      <th>10</th>\n",
       "      <td>Ankit</td>\n",
       "    </tr>\n",
       "    <tr>\n",
       "      <th>13</th>\n",
       "      <td>Teclov</td>\n",
       "    </tr>\n",
       "    <tr>\n",
       "      <th>10</th>\n",
       "      <td>Ankit</td>\n",
       "    </tr>\n",
       "    <tr>\n",
       "      <th>13</th>\n",
       "      <td>Teclov</td>\n",
       "    </tr>\n",
       "    <tr>\n",
       "      <th>11</th>\n",
       "      <td>Geekshub</td>\n",
       "    </tr>\n",
       "    <tr>\n",
       "      <th>10</th>\n",
       "      <td>Geekshub</td>\n",
       "    </tr>\n",
       "    <tr>\n",
       "      <th>14</th>\n",
       "      <td>Abhay</td>\n",
       "    </tr>\n",
       "    <tr>\n",
       "      <th>12</th>\n",
       "      <td>Teclov</td>\n",
       "    </tr>\n",
       "  </tbody>\n",
       "</table>\n",
       "</div>"
      ],
      "text/plain": [
       "            name\n",
       "random          \n",
       "10         Abhay\n",
       "13         Ankit\n",
       "12      Geekshub\n",
       "12        Teclov\n",
       "12         Ankit\n",
       "10         Ankit\n",
       "14         Ankit\n",
       "14      Geekshub\n",
       "11         Abhay\n",
       "10         Ankit\n",
       "12        Teclov\n",
       "11         Abhay\n",
       "10         Ankit\n",
       "13        Teclov\n",
       "10         Ankit\n",
       "13        Teclov\n",
       "11      Geekshub\n",
       "10      Geekshub\n",
       "14         Abhay\n",
       "12        Teclov"
      ]
     },
     "execution_count": 27,
     "metadata": {},
     "output_type": "execute_result"
    }
   ],
   "source": [
    "df.set_index('random',inplace= True)\n",
    "df"
   ]
  },
  {
   "cell_type": "code",
   "execution_count": 28,
   "metadata": {},
   "outputs": [
    {
     "name": "stdout",
     "output_type": "stream",
     "text": [
      "            name\n",
      "random          \n",
      "10         Abhay\n",
      "13         Ankit\n",
      "12      Geekshub\n",
      "12        Teclov\n",
      "12         Ankit\n",
      "10         Ankit\n",
      "14         Ankit\n",
      "14      Geekshub\n",
      "11         Abhay\n",
      "10         Ankit\n",
      "12        Teclov\n",
      "11         Abhay\n",
      "10         Ankit\n",
      "13        Teclov\n",
      "10         Ankit\n",
      "13        Teclov\n",
      "11      Geekshub\n",
      "10      Geekshub\n",
      "14         Abhay\n",
      "12        Teclov\n"
     ]
    }
   ],
   "source": [
    "df.sort_index(axis =0, ascending=False)\n",
    "print(df)"
   ]
  },
  {
   "cell_type": "code",
   "execution_count": 29,
   "metadata": {},
   "outputs": [
    {
     "name": "stdout",
     "output_type": "stream",
     "text": [
      "            name\n",
      "random          \n",
      "10         Abhay\n",
      "13         Ankit\n",
      "12      Geekshub\n",
      "12        Teclov\n",
      "12         Ankit\n",
      "10         Ankit\n",
      "14         Ankit\n",
      "14      Geekshub\n",
      "11         Abhay\n",
      "10         Ankit\n",
      "12        Teclov\n",
      "11         Abhay\n",
      "10         Ankit\n",
      "13        Teclov\n",
      "10         Ankit\n",
      "13        Teclov\n",
      "11      Geekshub\n",
      "10      Geekshub\n",
      "14         Abhay\n",
      "12        Teclov\n"
     ]
    }
   ],
   "source": [
    "df.sort_values(by ='random', ascending = False)\n",
    "print(df)"
   ]
  },
  {
   "cell_type": "code",
   "execution_count": null,
   "metadata": {},
   "outputs": [],
   "source": []
  }
 ],
 "metadata": {
  "kernelspec": {
   "display_name": "Python 3",
   "language": "python",
   "name": "python3"
  },
  "language_info": {
   "codemirror_mode": {
    "name": "ipython",
    "version": 3
   },
   "file_extension": ".py",
   "mimetype": "text/x-python",
   "name": "python",
   "nbconvert_exporter": "python",
   "pygments_lexer": "ipython3",
   "version": "3.6.8"
  }
 },
 "nbformat": 4,
 "nbformat_minor": 2
}
