{
 "cells": [
  {
   "cell_type": "code",
   "execution_count": 1,
   "metadata": {},
   "outputs": [],
   "source": [
    "import numpy as np\n",
    "import matplotlib.pyplot as plt\n",
    "from sklearn import datasets, neighbors\n",
    "from matplotlib.colors import ListedColormap"
   ]
  },
  {
   "cell_type": "code",
   "execution_count": 2,
   "metadata": {},
   "outputs": [],
   "source": [
    "\n",
    "def knn_comparison(data, n_neighbors = 15):\n",
    "    '''\n",
    "    This function finds k-NN and plots the data.\n",
    "    '''\n",
    "    X = data[:, :2]\n",
    "    y = data[:,2] \n",
    "    \n",
    "    \n",
    "    # grid cell size\n",
    "    h = .02\n",
    "    cmap_light = ListedColormap(['#FFAAAA',  '#AAAAFF'])\n",
    "    cmap_bold = ListedColormap(['#FF0000', '#0000FF'])\n",
    "\n",
    "\n",
    "    # the core classifier: k-NN\n",
    "    clf = neighbors.KNeighborsClassifier(n_neighbors)\n",
    "    clf.fit(X, y)\n",
    "\n",
    "    x_min, x_max = X[:, 0].min() - 1, X[:, 0].max() + 1\n",
    "    y_min, y_max = X[:, 1].min() - 1, X[:, 1].max() + 1\n",
    "    \n",
    "    # we create a mesh grid (x_min,y_min) to (x_max y_max) with 0.02 grid spaces\n",
    "    xx, yy = np.meshgrid(np.arange(x_min, x_max, h), np.arange(y_min, y_max, h))\n",
    "    \n",
    "    # we predict the value (either 0 or 1) of each element in the grid\n",
    "    Z = clf.predict(np.c_[xx.ravel(), yy.ravel()])\n",
    "    \n",
    "    # xx.ravel() will give a flatten array\n",
    "\n",
    "    # np.c_ : Translates slice objects to concatenation along the second axis.\n",
    "    # > np.c_[np.array([1,2,3]), np.array([4,5,6])]\n",
    "    # > array([[1, 4],\n",
    "    #          [2, 5],\n",
    "    #          [3, 6]])   (source: np.c_ documentation)\n",
    "    \n",
    "    \n",
    "    \n",
    "    \n",
    "    # convert the out back to the xx shape (we need it to plot the decission boundry)\n",
    "    Z = Z.reshape(xx.shape)\n",
    "    \n",
    "    \n",
    "    # pcolormesh will plot the (xx,yy) grid with colors according to the values of Z\n",
    "    # it looks like decision boundry\n",
    "    plt.figure()\n",
    "    plt.pcolormesh(xx, yy, Z, cmap=cmap_light)\n",
    "   \n",
    "    # scatter plot of with given points\n",
    "    plt.scatter(X[:, 0], X[:, 1], c=y, cmap=cmap_bold)\n",
    "    \n",
    "    #defining scale on both axises\n",
    "    plt.xlim(xx.min(), xx.max())\n",
    "    plt.ylim(yy.min(), yy.max())\n",
    "   \n",
    "    # set the title\n",
    "    plt.title('K value = '+str(n_neighbors))\n",
    "    \n",
    "\n",
    "    plt.show()"
   ]
  },
  {
   "cell_type": "markdown",
   "metadata": {},
   "source": [
    "### Meshgrid explanation\n",
    "![title](demo_data/meshgrid_image.png)\n",
    "please check this link <a href='https://stackoverflow.com/a/36014586'> stackoverflow meshgrid explanation </a>"
   ]
  },
  {
   "cell_type": "code",
   "execution_count": null,
   "metadata": {},
   "outputs": [],
   "source": []
  }
 ],
 "metadata": {
  "kernelspec": {
   "display_name": "Python 3",
   "language": "python",
   "name": "python3"
  },
  "language_info": {
   "codemirror_mode": {
    "name": "ipython",
    "version": 3
   },
   "file_extension": ".py",
   "mimetype": "text/x-python",
   "name": "python",
   "nbconvert_exporter": "python",
   "pygments_lexer": "ipython3",
   "version": "3.6.10"
  }
 },
 "nbformat": 4,
 "nbformat_minor": 4
}
