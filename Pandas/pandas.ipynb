{
 "cells": [
  {
   "cell_type": "markdown",
   "metadata": {},
   "source": [
    "# Pandas"
   ]
  },
  {
   "cell_type": "markdown",
   "metadata": {},
   "source": [
    "Pandas is an open source, BSD-licensed library providing high-performance, easy-to-use data structures and data analysis tools for the Python programming language.\n",
    "\n",
    "pandas is a NumFOCUS sponsored project. This will help ensure the success of development of pandas as a world-class open-source project, and makes it possible to donate to the project."
   ]
  },
  {
   "cell_type": "markdown",
   "metadata": {},
   "source": [
    "Pandas is used for data manipulation, analysis and cleaning. Python pandas is well suited for different kinds of data, such as: \n",
    "\n",
    "<ul><li>Tabular data with heterogeneously-typed columns</li>\n",
    "    <li>Ordered and unordered time series data</li>\n",
    "    <li>Arbitrary matrix data with row & column labels</li>\n",
    "    <li>Unlabelled data</li>\n",
    "    <li>Any other form of observational or statistical data sets</li></ul>"
   ]
  },
  {
   "cell_type": "markdown",
   "metadata": {},
   "source": [
    "# Python Operations"
   ]
  },
  {
   "cell_type": "code",
   "execution_count": 1,
   "metadata": {},
   "outputs": [
    {
     "name": "stdout",
     "output_type": "stream",
     "text": [
      "   Day  Visitors  Bounce_Rate\n",
      "0    1      1000           20\n",
      "1    2       700           20\n",
      "2    3      6000           23\n",
      "3    4      1000           15\n",
      "4    5       400           10\n",
      "5    6       350           34\n"
     ]
    }
   ],
   "source": [
    "import pandas as pd\n",
    " \n",
    "XYZ_web= {'Day':[1,2,3,4,5,6], \"Visitors\":[1000, 700,6000,1000,400,350], \"Bounce_Rate\":[20,20, 23,15,10,34]}\n",
    " \n",
    "df= pd.DataFrame(XYZ_web)\n",
    " \n",
    "print(df)"
   ]
  },
  {
   "cell_type": "markdown",
   "metadata": {},
   "source": [
    "# create Pandas Series"
   ]
  },
  {
   "cell_type": "code",
   "execution_count": 3,
   "metadata": {},
   "outputs": [
    {
     "name": "stdout",
     "output_type": "stream",
     "text": [
      "0    1\n",
      "1    2\n",
      "2    3\n",
      "3    4\n",
      "4    5\n",
      "dtype: int64\n",
      "\n",
      "\n",
      "<class 'pandas.core.series.Series'>\n"
     ]
    }
   ],
   "source": [
    "import pandas as pd\n",
    "a = pd.Series([1,2,3,4,5])\n",
    "print(a)\n",
    "print(\"\\n\")\n",
    "print(type(a))"
   ]
  },
  {
   "cell_type": "code",
   "execution_count": 4,
   "metadata": {},
   "outputs": [
    {
     "data": {
      "text/plain": [
       "3"
      ]
     },
     "execution_count": 4,
     "metadata": {},
     "output_type": "execute_result"
    }
   ],
   "source": [
    "a[2]"
   ]
  },
  {
   "cell_type": "code",
   "execution_count": 5,
   "metadata": {},
   "outputs": [
    {
     "name": "stdout",
     "output_type": "stream",
     "text": [
      "0    a\n",
      "1    b\n",
      "2    c\n",
      "dtype: object\n"
     ]
    }
   ],
   "source": [
    "a = pd.Series(['a','b','c'])\n",
    "print(a)"
   ]
  },
  {
   "cell_type": "code",
   "execution_count": 8,
   "metadata": {},
   "outputs": [
    {
     "name": "stdout",
     "output_type": "stream",
     "text": [
      "DatetimeIndex(['2018-01-01', '2018-01-02', '2018-01-03', '2018-01-04',\n",
      "               '2018-01-05', '2018-01-06', '2018-01-07', '2018-01-08',\n",
      "               '2018-01-09', '2018-01-10',\n",
      "               ...\n",
      "               '2018-05-14', '2018-05-15', '2018-05-16', '2018-05-17',\n",
      "               '2018-05-18', '2018-05-19', '2018-05-20', '2018-05-21',\n",
      "               '2018-05-22', '2018-05-23'],\n",
      "              dtype='datetime64[ns]', length=143, freq='D')\n",
      "\n",
      "\n",
      "<class 'pandas.core.indexes.datetimes.DatetimeIndex'>\n"
     ]
    }
   ],
   "source": [
    "a = pd.date_range(start = '01-01-2018', end = '23-5-2018')\n",
    "print(a)\n",
    "print(\"\\n\")\n",
    "print(type(a))"
   ]
  },
  {
   "cell_type": "markdown",
   "metadata": {},
   "source": [
    "# Pandas dataframe"
   ]
  },
  {
   "cell_type": "code",
   "execution_count": 10,
   "metadata": {},
   "outputs": [
    {
     "name": "stdout",
     "output_type": "stream",
     "text": [
      "    temp      name  random\n",
      "0     72  Geekshub      13\n",
      "1     67    Teclov      10\n",
      "2     72     Ankit      14\n",
      "3     69     Abhay      11\n",
      "4     25  Geekshub      11\n",
      "5     36    Teclov      10\n",
      "6     54  Geekshub      13\n",
      "7     50  Geekshub      11\n",
      "8     80    Teclov      10\n",
      "9     91    Teclov      11\n",
      "10    53    Teclov      14\n",
      "11    61     Abhay      10\n",
      "12    79     Ankit      10\n",
      "13    94     Abhay      12\n",
      "14    22    Teclov      13\n",
      "15    41    Teclov      10\n",
      "16    93    Teclov      10\n",
      "17    48    Teclov      12\n",
      "18    41     Ankit      14\n",
      "19    71    Teclov      11\n",
      "\n",
      "\n",
      "<class 'pandas.core.frame.DataFrame'>\n"
     ]
    }
   ],
   "source": [
    "import numpy as np\n",
    "\n",
    "temp = np.random.randint(low = 20, high =100, size = [20,])\n",
    "name = np.random.choice(['Abhay','Teclov','Geekshub','Ankit'],20)\n",
    "random = np.random.choice([10,11,13,12,14],20)\n",
    "\n",
    "a = list(zip(temp, name, random))\n",
    "\n",
    "df = pd.DataFrame(data = a, columns=['temp','name','random'])\n",
    "print(df)\n",
    "print(\"\\n\")\n",
    "print(type(df))"
   ]
  },
  {
   "cell_type": "code",
   "execution_count": 13,
   "metadata": {},
   "outputs": [
    {
     "name": "stdout",
     "output_type": "stream",
     "text": [
      "<class 'pandas.core.frame.DataFrame'>\n",
      "\n",
      "\n",
      "   temp      name  random\n",
      "0    69     Abhay      10\n",
      "1    96     Ankit      13\n",
      "2    97  Geekshub      12\n",
      "3    45    Teclov      12\n",
      "4    44     Ankit      12\n",
      "\n",
      "\n",
      "    temp      name  random\n",
      "15    24    Teclov      13\n",
      "16    50  Geekshub      11\n",
      "17    24  Geekshub      10\n",
      "18    82     Abhay      14\n",
      "19    73    Teclov      12\n",
      "None\n"
     ]
    }
   ],
   "source": [
    "temp = np.random.randint(low = 20, high =100, size = [20,])\n",
    "name = np.random.choice(['Abhay','Teclov','Geekshub','Ankit'],20)\n",
    "random = np.random.choice([10,11,13,12,14],20)\n",
    "\n",
    "df = pd.DataFrame({'temp':temp, 'name':name, 'random':random})\n",
    "print(type(df))\n",
    "print(\"\\n\")\n",
    "print(df.head())\n",
    "print(\"\\n\")\n",
    "print(print(df.tail()))"
   ]
  },
  {
   "cell_type": "code",
   "execution_count": 15,
   "metadata": {},
   "outputs": [
    {
     "name": "stdout",
     "output_type": "stream",
     "text": [
      "(20, 3)\n",
      "\n",
      "\n",
      "Index(['temp', 'name', 'random'], dtype='object')\n"
     ]
    }
   ],
   "source": [
    "print(df.shape)\n",
    "print(\"\\n\")\n",
    "print(df.columns)"
   ]
  },
  {
   "cell_type": "code",
   "execution_count": 16,
   "metadata": {},
   "outputs": [
    {
     "data": {
      "text/plain": [
       "0        Abhay\n",
       "1        Ankit\n",
       "2     Geekshub\n",
       "3       Teclov\n",
       "4        Ankit\n",
       "5        Ankit\n",
       "6        Ankit\n",
       "7     Geekshub\n",
       "8        Abhay\n",
       "9        Ankit\n",
       "10      Teclov\n",
       "11       Abhay\n",
       "12       Ankit\n",
       "13      Teclov\n",
       "14       Ankit\n",
       "15      Teclov\n",
       "16    Geekshub\n",
       "17    Geekshub\n",
       "18       Abhay\n",
       "19      Teclov\n",
       "Name: name, dtype: object"
      ]
     },
     "execution_count": 16,
     "metadata": {},
     "output_type": "execute_result"
    }
   ],
   "source": [
    "df.name"
   ]
  },
  {
   "cell_type": "code",
   "execution_count": 17,
   "metadata": {},
   "outputs": [
    {
     "data": {
      "text/plain": [
       "0        Abhay\n",
       "1        Ankit\n",
       "2     Geekshub\n",
       "3       Teclov\n",
       "4        Ankit\n",
       "5        Ankit\n",
       "6        Ankit\n",
       "7     Geekshub\n",
       "8        Abhay\n",
       "9        Ankit\n",
       "10      Teclov\n",
       "11       Abhay\n",
       "12       Ankit\n",
       "13      Teclov\n",
       "14       Ankit\n",
       "15      Teclov\n",
       "16    Geekshub\n",
       "17    Geekshub\n",
       "18       Abhay\n",
       "19      Teclov\n",
       "Name: name, dtype: object"
      ]
     },
     "execution_count": 17,
     "metadata": {},
     "output_type": "execute_result"
    }
   ],
   "source": [
    "df['name']"
   ]
  },
  {
   "cell_type": "code",
   "execution_count": null,
   "metadata": {},
   "outputs": [],
   "source": []
  }
 ],
 "metadata": {
  "kernelspec": {
   "display_name": "Python 3",
   "language": "python",
   "name": "python3"
  },
  "language_info": {
   "codemirror_mode": {
    "name": "ipython",
    "version": 3
   },
   "file_extension": ".py",
   "mimetype": "text/x-python",
   "name": "python",
   "nbconvert_exporter": "python",
   "pygments_lexer": "ipython3",
   "version": "3.6.8"
  }
 },
 "nbformat": 4,
 "nbformat_minor": 2
}
